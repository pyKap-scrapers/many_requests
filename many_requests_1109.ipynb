{
 "cells": [
  {
   "cell_type": "markdown",
   "id": "762dd232",
   "metadata": {},
   "source": [
    "#### ManyRequests is a simple way to download data in an asynchronous way, and asyncio & aiohttp can scrape web data more quickly.\n",
    "\n",
    "#### In the following cell, I scrape data from https://247sports.com/Season/2020-Football/Recruits.json?&Items=125&Page=1& and store them in json files."
   ]
  },
  {
   "cell_type": "code",
   "execution_count": null,
   "id": "037ec631",
   "metadata": {},
   "outputs": [],
   "source": [
    "from many_requests import ManyRequests\n",
    "\n",
    "headers=[{'User-Agent':'Mozilla/5.0'} for j in range(1,201)]\n",
    "responses = {}\n",
    "for year in range(2000, 2022):\n",
    "    responses_temp = ManyRequests(n_workers=20, n_connections=20, json=False)(\n",
    "                    method='GET',headers=headers,\n",
    "                    url=['https://247sports.com/Season/'+str(year)+'-Football/Recruits.json?&Items=125&Page='+str(i)+'&' for i in range(1,201)])\n",
    "    j = 1\n",
    "    for each in responses_temp:\n",
    "        try:\n",
    "            writeFile = open(str(year)+'-Football-Recruits-125Items-Page'+str(j)+'.json','w')\n",
    "            writeFile.write(each.text)\n",
    "            writeFile.close()\n",
    "            j += 1\n",
    "        except:\n",
    "            j += 1\n",
    "            continue\n",
    "        \n",
    "    responses[str(year)] = responses_temp\n",
    "    print(str(year),'is finished!')"
   ]
  },
  {
   "cell_type": "markdown",
   "id": "f5df9700",
   "metadata": {},
   "source": [
    "#### We can see the data of one webpage in this way."
   ]
  },
  {
   "cell_type": "code",
   "execution_count": null,
   "id": "ddc876bc",
   "metadata": {},
   "outputs": [],
   "source": [
    "responses['2000'][0].text"
   ]
  },
  {
   "cell_type": "markdown",
   "id": "2dc9fe01",
   "metadata": {},
   "source": [
    "#### Delate empty files."
   ]
  },
  {
   "cell_type": "code",
   "execution_count": null,
   "id": "55b451ca",
   "metadata": {},
   "outputs": [],
   "source": [
    "import os\n",
    "\n",
    "filePath = 'C:/Users/heyin/2020py/USC/Football/Football-Recruits-125Items'\n",
    "dir_list = os.listdir(filePath)\n",
    "\n",
    "for file in dir_list:\n",
    "    a = open(filePath + '/' + file)\n",
    "    b = a.read()\n",
    "    a.close()\n",
    "    if b == '[]' or b == '':\n",
    "        os.remove(filePath + '/' + file)\n",
    "        print(file)"
   ]
  },
  {
   "cell_type": "markdown",
   "id": "92ddf662",
   "metadata": {},
   "source": [
    "#### Here I want to record all the CurrentPlayerInstitution and save them in a csv file for further web-scraping."
   ]
  },
  {
   "cell_type": "code",
   "execution_count": null,
   "id": "569a18f0",
   "metadata": {},
   "outputs": [],
   "source": [
    "import json\n",
    "\n",
    "dir_list = os.listdir(filePath)\n",
    "institution_list = []\n",
    "\n",
    "for file in dir_list:\n",
    "    print(file)\n",
    "    a = open(filePath + '/' + file)\n",
    "    b = a.read()\n",
    "    readFile = json.loads(b)\n",
    "    temp_list = []\n",
    "    for each in readFile:\n",
    "    #     print(each['Player']['CurrentPlayerInstitution'])\n",
    "        try:\n",
    "            temp_list.append(each['Player']['CurrentPlayerInstitution'])\n",
    "        except:\n",
    "            continue\n",
    "    institution_list += temp_list\n",
    "\n",
    "institution_list = list(set(institution_list))\n",
    "print(institution_list)"
   ]
  },
  {
   "cell_type": "code",
   "execution_count": null,
   "id": "159f33e7",
   "metadata": {},
   "outputs": [],
   "source": [
    "import csv\n",
    "\n",
    "write_institution = open('current_player_institution.csv','w',newline='')\n",
    "writer = csv.writer(write_institution, dialect='excel')\n",
    "for each in institution_list:\n",
    "    temp = [each]\n",
    "    writer.writerow(temp)\n",
    "write_institution.close()"
   ]
  },
  {
   "cell_type": "markdown",
   "id": "c142016a",
   "metadata": {},
   "source": [
    "#### I can also scrape data from https://247sports.com/Institution/207.json in the same way as above."
   ]
  },
  {
   "cell_type": "code",
   "execution_count": null,
   "id": "62edc80e",
   "metadata": {},
   "outputs": [],
   "source": [
    "headers=[{'User-Agent':'Mozilla/5.0'} for j in range(1,5000)]  # total 27000\n",
    "\n",
    "responses_institution_0 = ManyRequests(n_workers=100, n_connections=20, json=True)(\n",
    "                method='GET',headers=headers,\n",
    "                url=['https://247sports.com/Institution/'+str(i)+'.json' for i in range(1,5000)])"
   ]
  },
  {
   "cell_type": "code",
   "execution_count": null,
   "id": "1c114e81",
   "metadata": {},
   "outputs": [],
   "source": [
    "type(responses_institution_0[958])"
   ]
  },
  {
   "cell_type": "code",
   "execution_count": null,
   "id": "4a6f8afd",
   "metadata": {},
   "outputs": [],
   "source": [
    "headers=[{'User-Agent':'Mozilla/5.0'} for j in range(5001,10000)]  # total 27000\n",
    "\n",
    "responses_institution_1 = ManyRequests(n_workers=100, n_connections=20, json=True)(\n",
    "                method='GET',headers=headers,\n",
    "                url=['https://247sports.com/Institution/'+str(i)+'.json' for i in range(5001,10000)])"
   ]
  },
  {
   "cell_type": "code",
   "execution_count": null,
   "id": "cf44d72d",
   "metadata": {},
   "outputs": [],
   "source": [
    "headers=[{'User-Agent':'Mozilla/5.0'} for j in range(10001,15000)]  # total 27000\n",
    "\n",
    "responses_institution_2 = ManyRequests(n_workers=200, n_connections=20, json=True)(\n",
    "                method='GET',headers=headers,\n",
    "                url=['https://247sports.com/Institution/'+str(i)+'.json' for i in range(10001,15000)])"
   ]
  },
  {
   "cell_type": "code",
   "execution_count": null,
   "id": "0fa45469",
   "metadata": {},
   "outputs": [],
   "source": [
    "headers=[{'User-Agent':'Mozilla/5.0'} for j in range(15001,20000)]  # total 27000\n",
    "\n",
    "responses_institution_3 = ManyRequests(n_workers=200, n_connections=20, json=True)(\n",
    "                method='GET',headers=headers,\n",
    "                url=['https://247sports.com/Institution/'+str(i)+'.json' for i in range(15001,20000)])"
   ]
  },
  {
   "cell_type": "code",
   "execution_count": null,
   "id": "d918c7ae",
   "metadata": {},
   "outputs": [],
   "source": [
    "headers=[{'User-Agent':'Mozilla/5.0'} for j in range(20001,27000)]  # total 27000\n",
    "\n",
    "responses_institution_4 = ManyRequests(n_workers=200, n_connections=20, json=True)(\n",
    "                method='GET',headers=headers,\n",
    "                url=['https://247sports.com/Institution/'+str(i)+'.json' for i in range(20001,27000)])"
   ]
  },
  {
   "cell_type": "code",
   "execution_count": null,
   "id": "f48bd3df",
   "metadata": {},
   "outputs": [],
   "source": [
    "responses_institution = responses_institution_0 + responses_institution_1 + responses_institution_2 + responses_institution_3 \\\n",
    "                        + responses_institution_4\n",
    "len(responses_institution)"
   ]
  }
 ],
 "metadata": {
  "kernelspec": {
   "display_name": "Python 3",
   "language": "python",
   "name": "python3"
  },
  "language_info": {
   "codemirror_mode": {
    "name": "ipython",
    "version": 3
   },
   "file_extension": ".py",
   "mimetype": "text/x-python",
   "name": "python",
   "nbconvert_exporter": "python",
   "pygments_lexer": "ipython3",
   "version": "3.8.8"
  }
 },
 "nbformat": 4,
 "nbformat_minor": 5
}
